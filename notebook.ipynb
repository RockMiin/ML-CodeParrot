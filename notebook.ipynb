{
 "cells": [
  {
   "attachments": {},
   "cell_type": "markdown",
   "metadata": {},
   "source": [
    "# ML-CodeParrot Pretraining Process\n",
    "- BigQuery에서 제공하는 Github Dataset 중 ML Library(torch, transformers, ..., sklearn)를 사용하는 코드만 추출하여 Pretraining <br>\n",
    "- Pretrained Tokenizer, Model은 모두 Huggingface Hub에서 [load](https://huggingface.co/rockmiin)하여 사용 가능\n",
    "- [기존 CodeParrot모델](transformersbook/codeparrot-small)과 결과를 비교하며 진행할 예정\n",
    "## 전체 프로세스\n",
    "- ### Extract ML-Github Dataset\n",
    "- ### Tokenizer\n",
    "- ### Model\n",
    "- ### Experiment\n",
    "- ### Conclusion"
   ]
  },
  {
   "attachments": {},
   "cell_type": "markdown",
   "metadata": {},
   "source": [
    "## Extract ML-Github Dataset\n",
    "- BigQuery에서 하위 SQL문을 이용하여 `torch`, `sklearn`, `huggingface library(transformers, datasets, tokenizers)`를 사용하는 py파일만 추출 (2분 내로 처리)<br>\n",
    "- 총 2.7TB에서 5.61GB(446,595 samples)를 추출하여 사용 ([CodeParrot](transformersbook/codeparrot-small) 모델에 비해 3%에 해당하는 데이터셋 사용)\n",
    "- 추출된 데이터를 9:1 비율로 [Train](https://huggingface.co/datasets/rockmiin/ml-codeparrot-train), [Valid](https://huggingface.co/datasets/rockmiin/ml-codeparrot-valid) Dataset 분리\n"
   ]
  },
  {
   "cell_type": "code",
   "execution_count": null,
   "metadata": {},
   "outputs": [],
   "source": [
    "SQL = \"\"\"SELECT\n",
    "  f.repo_name, f.path, c.copies, c.size, c.content, l.license\n",
    "FROM\n",
    "  `bigquery-public-data.github_repos.files` AS f\n",
    "JOIN\n",
    "  `bigquery-public-data.github_repos.contents` AS c\n",
    "ON\n",
    "  f.id = c.id\n",
    "JOIN\n",
    "  `bigquery-public-data.github_repos.licenses` AS l\n",
    "ON\n",
    "  f.repo_name = l.repo_name\n",
    "WHERE\n",
    "  NOT c.binary\n",
    "  AND ((f.path LIKE '%.py')\n",
    "    AND (c.size BETWEEN 1024 AND 1048575))\n",
    "  AND REGEXP_CONTAINS(c.content, r'torch|sklearn|transformers|datasets|tokenizers')\n",
    "\"\"\""
   ]
  },
  {
   "attachments": {},
   "cell_type": "markdown",
   "metadata": {},
   "source": [
    "## Tokenizer\n",
    "- 사전학습된 codeparrot과 ml-codeparrot tokenizer의 vocab token list 확인\n",
    "- 한 쪽 tokenizer vocab에만 포함되어 있는 token 확인 "
   ]
  },
  {
   "cell_type": "code",
   "execution_count": 2,
   "metadata": {},
   "outputs": [
    {
     "name": "stderr",
     "output_type": "stream",
     "text": [
      "/home/deepai/.pyenv/versions/anaconda3-5.3.1/envs/copilot/lib/python3.8/site-packages/tqdm/auto.py:21: TqdmWarning: IProgress not found. Please update jupyter and ipywidgets. See https://ipywidgets.readthedocs.io/en/stable/user_install.html\n",
      "  from .autonotebook import tqdm as notebook_tqdm\n"
     ]
    }
   ],
   "source": [
    "from transformers import AutoTokenizer\n",
    "\n",
    "ml_tokenizer= AutoTokenizer.from_pretrained('rockmiin/ml-codeparrot')\n",
    "org_tokenizer= AutoTokenizer.from_pretrained('transformersbook/codeparrot-small')"
   ]
  },
  {
   "cell_type": "code",
   "execution_count": 3,
   "metadata": {},
   "outputs": [],
   "source": [
    "topk= 1000\n",
    "top_ml_vocab= [tok for tok, idx in sorted(ml_tokenizer.vocab.items(), key= lambda x: x[1])[257:257+topk]]\n",
    "top_org_vocab= [tok for tok, idx in sorted(org_tokenizer.vocab.items(), key= lambda x: x[1])[257:257+topk]]"
   ]
  },
  {
   "cell_type": "code",
   "execution_count": 21,
   "metadata": {},
   "outputs": [
    {
     "data": {
      "text/plain": [
       "['ĠĠ',\n",
       " 'ĠĠĠĠ',\n",
       " 'ĠĠĠ',\n",
       " 'ĠĠĠĠĠĠĠĠ',\n",
       " 'in',\n",
       " 'se',\n",
       " 'at',\n",
       " 're',\n",
       " 'ĠĠĠĠĠĠĠ',\n",
       " 'or',\n",
       " 'er',\n",
       " 'on',\n",
       " 'Ġt',\n",
       " 'st',\n",
       " 'ĊĠĠĠ',\n",
       " 'ĊĠĠĠĠĠĠĠ',\n",
       " 'Ġ=',\n",
       " 'al',\n",
       " 'ar',\n",
       " 'ĊĠĠĠĠĠĠĠĠ',\n",
       " 'le',\n",
       " 'an',\n",
       " 'de',\n",
       " 'he',\n",
       " 'me',\n",
       " 'it',\n",
       " '--',\n",
       " 'Ġc',\n",
       " 'Ġn',\n",
       " 'Ġi',\n",
       " 'as',\n",
       " 'Ġf',\n",
       " 'en',\n",
       " 'ion',\n",
       " 'Ġs',\n",
       " 'mp',\n",
       " 'lf',\n",
       " '##',\n",
       " 'ra',\n",
       " 'Ġp',\n",
       " 'ro',\n",
       " 'ct',\n",
       " 'self',\n",
       " 'ut',\n",
       " 'Ġthe',\n",
       " 'Ġin',\n",
       " 'ĊĠĠĠĠĠĠĠĠĠĠĠ',\n",
       " 'Ġo',\n",
       " 'es',\n",
       " 'ing',\n",
       " 'Ġd',\n",
       " 'lo',\n",
       " '==',\n",
       " \"Ġ'\",\n",
       " 'Ġ\"',\n",
       " 'Ġa',\n",
       " 'ed',\n",
       " 'co',\n",
       " 'ata',\n",
       " 'el',\n",
       " 'Ġm',\n",
       " 'ic',\n",
       " 'Ġre',\n",
       " 'est',\n",
       " 'Ġ#',\n",
       " 'Ġb',\n",
       " 'pe',\n",
       " 'ge',\n",
       " 'ĊĊĠĠĠ',\n",
       " 'and',\n",
       " 'Ġw',\n",
       " 'Ġself',\n",
       " '----',\n",
       " '):',\n",
       " 'ur',\n",
       " 'ĊĠĠĠĠĠĠĠĠĠĠĠĠĠĠĠĠ',\n",
       " 'is',\n",
       " 'un',\n",
       " 'ig',\n",
       " 'ame',\n",
       " 'Ġ(',\n",
       " 'ce',\n",
       " '####',\n",
       " 'ue',\n",
       " \"',\",\n",
       " 'ul',\n",
       " 'ab',\n",
       " 'res',\n",
       " 'Ġde',\n",
       " 'ts',\n",
       " 'Ġ1',\n",
       " 'ate',\n",
       " 'id',\n",
       " 'Ġof',\n",
       " 'ser',\n",
       " 'Ġto',\n",
       " 'ch',\n",
       " 'ort',\n",
       " 'ex',\n",
       " 'di']"
      ]
     },
     "execution_count": 21,
     "metadata": {},
     "output_type": "execute_result"
    }
   ],
   "source": [
    "def get_top_tokens(tokenizer, n):\n",
    "    # 딕셔너리의 값(빈도수)를 기준으로 내림차순으로 정렬한 후, 상위 n개의 항목만 추출\n",
    "    sorted_tokens = sorted(tokenizer.vocab.items(), key=lambda x: x[1])[257:257+n]\n",
    "    # 토큰만 추출하여 리스트에 저장\n",
    "    top_tokens = [token for token, count in sorted_tokens]\n",
    "    return top_tokens\n",
    "\n",
    "# 예시: 상위 100개의 토큰을 추출하여 출력\n",
    "top_tokens = get_top_tokens(ml_tokenizer, 100)\n",
    "top_tokens"
   ]
  },
  {
   "cell_type": "code",
   "execution_count": 4,
   "metadata": {},
   "outputs": [
    {
     "data": {
      "text/plain": [
       "['ĠĠ',\n",
       " 'ĠĠĠĠ',\n",
       " 'ĠĠĠ',\n",
       " 'ĠĠĠĠĠĠĠĠ',\n",
       " 'in',\n",
       " 'se',\n",
       " 'at',\n",
       " 're',\n",
       " 'ĠĠĠĠĠĠĠ',\n",
       " 'or',\n",
       " 'er',\n",
       " 'on',\n",
       " 'Ġt',\n",
       " 'st',\n",
       " 'ĊĠĠĠ',\n",
       " 'ĊĠĠĠĠĠĠĠ',\n",
       " 'Ġ=',\n",
       " 'al',\n",
       " 'ar',\n",
       " 'ĊĠĠĠĠĠĠĠĠ',\n",
       " 'le',\n",
       " 'an',\n",
       " 'de',\n",
       " 'he',\n",
       " 'me',\n",
       " 'it',\n",
       " '--',\n",
       " 'Ġc',\n",
       " 'Ġn',\n",
       " 'Ġi',\n",
       " 'as',\n",
       " 'Ġf',\n",
       " 'en',\n",
       " 'ion',\n",
       " 'Ġs',\n",
       " 'mp',\n",
       " 'lf',\n",
       " '##',\n",
       " 'ra',\n",
       " 'Ġp',\n",
       " 'ro',\n",
       " 'ct',\n",
       " 'self',\n",
       " 'ut',\n",
       " 'Ġthe',\n",
       " 'Ġin',\n",
       " 'ĊĠĠĠĠĠĠĠĠĠĠĠ',\n",
       " 'Ġo',\n",
       " 'es',\n",
       " 'ing',\n",
       " 'Ġd',\n",
       " 'lo',\n",
       " '==',\n",
       " \"Ġ'\",\n",
       " 'Ġ\"',\n",
       " 'Ġa',\n",
       " 'ed',\n",
       " 'co',\n",
       " 'ata',\n",
       " 'el',\n",
       " 'Ġm',\n",
       " 'ic',\n",
       " 'Ġre',\n",
       " 'est',\n",
       " 'Ġ#',\n",
       " 'Ġb',\n",
       " 'pe',\n",
       " 'ge',\n",
       " 'ĊĊĠĠĠ',\n",
       " 'and',\n",
       " 'Ġw',\n",
       " 'Ġself',\n",
       " '----',\n",
       " '):',\n",
       " 'ur',\n",
       " 'ĊĠĠĠĠĠĠĠĠĠĠĠĠĠĠĠĠ',\n",
       " 'is',\n",
       " 'un',\n",
       " 'ig',\n",
       " 'ame',\n",
       " 'Ġ(',\n",
       " 'ce',\n",
       " '####',\n",
       " 'ue',\n",
       " \"',\",\n",
       " 'ul',\n",
       " 'ab',\n",
       " 'res',\n",
       " 'Ġde',\n",
       " 'ts',\n",
       " 'Ġ1',\n",
       " 'ate',\n",
       " 'id',\n",
       " 'Ġof',\n",
       " 'ser',\n",
       " 'Ġto',\n",
       " 'ch',\n",
       " 'ort',\n",
       " 'ex',\n",
       " 'di']"
      ]
     },
     "execution_count": 4,
     "metadata": {},
     "output_type": "execute_result"
    }
   ],
   "source": [
    "top_ml_vocab[:100]"
   ]
  },
  {
   "cell_type": "code",
   "execution_count": 5,
   "metadata": {},
   "outputs": [
    {
     "data": {
      "text/plain": [
       "['ĠĠ',\n",
       " 'ĠĠĠĠ',\n",
       " 'ĠĠĠ',\n",
       " 'ĠĠĠĠĠĠĠĠ',\n",
       " 'se',\n",
       " 'in',\n",
       " 'ĠĠĠĠĠĠĠ',\n",
       " 're',\n",
       " 'on',\n",
       " 'te',\n",
       " 'ĊĠĠĠĠĠĠĠ',\n",
       " 'ĊĠĠĠĠĠĠĠĠ',\n",
       " 'or',\n",
       " 'st',\n",
       " 'de',\n",
       " 'ĊĠĠĠ',\n",
       " 'th',\n",
       " 'le',\n",
       " 'Ġ=',\n",
       " 'lf',\n",
       " 'self',\n",
       " 'me',\n",
       " 'al',\n",
       " 'ti',\n",
       " 'er',\n",
       " 'Ġa',\n",
       " \"Ġ'\",\n",
       " 'Ġi',\n",
       " 'ar',\n",
       " 'Ġc',\n",
       " 'en',\n",
       " 'ĊĠĠĠĠĠĠĠĠĠĠĠ',\n",
       " 'Ġf',\n",
       " 'an',\n",
       " 'Ġself',\n",
       " 'at',\n",
       " 'ro',\n",
       " 'Ġth',\n",
       " 'Ġre',\n",
       " 'tion',\n",
       " \"',\",\n",
       " 'Ġ\"',\n",
       " 'Ġp',\n",
       " 'ur',\n",
       " 'ce',\n",
       " 'Ġn',\n",
       " 'ge',\n",
       " '):',\n",
       " 'as',\n",
       " '--',\n",
       " 'Ġt',\n",
       " 'Ġs',\n",
       " '##',\n",
       " 'ue',\n",
       " 'mp',\n",
       " 'Ġo',\n",
       " 'ame',\n",
       " 'Ġthe',\n",
       " 'Ġin',\n",
       " 'ing',\n",
       " 'li',\n",
       " 'def',\n",
       " 'ct',\n",
       " 'lo',\n",
       " 'pe',\n",
       " 'ri',\n",
       " 'ate',\n",
       " 'un',\n",
       " 'Ġe',\n",
       " 'ĊĠĠĠĠĠĠĠĠĠĠĠĠĠĠĠĠ',\n",
       " 'Ġ#',\n",
       " 'di',\n",
       " 'fi',\n",
       " 'Ġb',\n",
       " 'co',\n",
       " 'ser',\n",
       " 'Ġm',\n",
       " 'Ġ(',\n",
       " 'ch',\n",
       " 'Ġw',\n",
       " 'ut',\n",
       " 'si',\n",
       " 'ĊĊĠĠĠ',\n",
       " 'Ġif',\n",
       " '\"\"',\n",
       " '()',\n",
       " 'nt',\n",
       " 'id',\n",
       " 'ra',\n",
       " 'ck',\n",
       " 'Ġdef',\n",
       " 'ul',\n",
       " 'urn',\n",
       " 'ad',\n",
       " 'ter',\n",
       " 'el',\n",
       " 'turn',\n",
       " 'name',\n",
       " 'ĊĠĠĠĠĠĠĠĠĠĠĠĠĠĠĠ',\n",
       " \"':\"]"
      ]
     },
     "execution_count": 5,
     "metadata": {},
     "output_type": "execute_result"
    }
   ],
   "source": [
    "top_org_vocab[:100]"
   ]
  },
  {
   "cell_type": "code",
   "execution_count": 6,
   "metadata": {},
   "outputs": [
    {
     "name": "stdout",
     "output_type": "stream",
     "text": [
      "['ion', 'ha', 'las', 'lass', 'igh', 'ĠX', 'atu', 'odel', 'rain', 'hape', 'eigh', 'amples', 'ath', 'arg', 'atures', 'fit', 'equal', 'var', 'learn', 'samples', 'iter', 'ob', 'train', 'shape', 'ive', 'imator', 'np', 'ial', 'Ġnum', 'ameter', 'label', 'ues', 'sor', 'features', 'raise', 'ib', 'ifi', 'Ġarray', 'lot', 'ansform', 'weigh', 'Ġmodel', 'ents', 'ast', 'estimator', 'iel', 'Ġlabel', '[:', 'vari', 'score', 'Ġsk', 'pend', 'tric', 'Ġrandom', 'Val', 'ies', 'Ġtr', 'ef', 'tt', 'Ġdataset', 'random', 'nel', 'Ġsklearn', 'rix', 'atrix', 'gres', 'Ġsc', 'Ġfe', 'umn', 'ature', '================', 'Ġtrain', 'Ġ>>', 'pha', 'Ġ>>>', 'ord', 'ameters', 'weight', 'ifier', 'Ġshape', 'Ġax', 'ice', 'Ġinput', 'ors', 'pect', 'Ġclf', 'sets', 'lasses', 'dataset', 'Ġob', 'Ġmax', 'plit', 'au', 'ices', 'ations', 'ttp', 'Ġnumber', 'most', 'Ġj', 'plot', 'ValueError', 'ision', 'ensor', 'ĊĠĠĠĠĠĠĠĠĠĠĠĠĠĠĠĠĠĠĠĠĠĠĠĠĠĠĠĠĠĠĠĠĠĠĠĠĠĠĠĠ', 'ition', 'Ġpl', 'zer', 'ep', 'ils', 'num', 'ernel', 'Ġwhe', 'oin', 'onents', 'almost', 'ults', 'men', 'Ġ--------', 'true', 'umpy', 'Data', 'ĠY', '((', 'lobal', 'predict', 'ork', 'print', 'Ġsample', '[:,', 'cs', 'transform', '},', 'izer', 'gor', 'Ġdist', 'ates', 'ake', 'old', 'rid', 'cision', 'uster', 'Ġvalues', '.,', 'pred', 'sum', 'Ġlabels', 'Ġ..', 'ilter', 'Ċĉĉĉĉ', 'components', 'labels', 'Ċĉĉĉ', 'mean', 'Ġfit', 'ng', 'www', 'ific', 'Ġweigh', '100', 'Ġglobal', 'sparse', 'Ġeach', 'lex', 'urce', 'ormal', 'float', 'bin', 'ick', 'ments', 'hy', 'Ġdtype', 'classes', 'df', 'ace', ':`', 'Ġnumpy', 'diction', 'are', 'not', 'turns', 'Ġrange', 'ĠPar', 'sample', 'Class', 'rib', 'prob', 'plt', 'fn', 'Ġ----------', 'lect', 'eighb', 'trib', 'Ġap', 'ste', 'Ġoptional', 'act', 'axis', 'Ġfloat', 'Ġ.', 'Ġmin', 'scal', 'Ġne', 'ĠAlex', 'values', \"/',\", 'raw', 'Ġha', 'ence', 'Ġmatrix', 'column', '################################', 'ution', 'gression', 'cy', 'uff', 'Ġplt', 'pes', 'Ġmetric', 'cores', 'split', 'ĠWhy', 'ĠAlexa', 'metric', 'ayer', 'Ġ10', 'Ġiter', 'Ġup', 'ĠK', 'eighbors', 'inal', 'its', 'wargs', 'ide', 'Ġsparse', 'vals', 'Ġaxis', 'ĠReturns', 'Ġwhich', 'dist', 'dev', 'Ġgener', 'ical', 'Ġestimator', 'batch', 'variance', 'clf', 'poch', 'Ġfeatures', 'like', ']]', 'ĠValueError', 'ĠSe', 'target', 'irst', 'verage', 'loss', 'vector', 'ĠParameters', 'matrix', 'Ġprob', 'ized', 'Ġone', 'idx', 'pos', 'Ġinter', 'Ġspec', 'ev', 'Ġcor', 'lat', 'coef', '`.', 'pr', 'ug', 'Ġfeature', 'Classifier', 'Ġtf', '_,', 'Ġmake', 'ink', 'lection', 'itle', 'obs', 'Se', 'io', 'sv', 'amp', 'ances', 'Ġcms', 'bose', 'emp', '=[', 'feren', 'Ġonly', 'ain', 'ization', 'Ġ!', 'Ġ),', 'ams', 'ptim', 'Ġind', 'Ġbatch', 'Ġwhen', 'raises', 'Ġusing', '------', 'variable', 'Ġsamples', 'Ġscore', 'Ġcopy', 'Ġest', 'rand', 'dtype', 'ross', 'ification']\n"
     ]
    }
   ],
   "source": [
    "# ml-vocab topk에는 있지만 org-vocab에 존재하지 않는 token\n",
    "print([tok for tok in top_ml_vocab if tok not in top_org_vocab])\n",
    "# [train, iter, shape, features]"
   ]
  },
  {
   "cell_type": "code",
   "execution_count": 7,
   "metadata": {},
   "outputs": [
    {
     "name": "stdout",
     "output_type": "stream",
     "text": [
      "['ti', 'tion', 'fi', 'si', 'xt', 'alue', 'la', '::', 'eld', 'gs', 'bu', 'bj', 'lin', 'ls', 'ht', 'bject', 'ci', 'tem', 'our', 'app', 'module', 'wor', 'mm', 'tri', 'Ġar', 'lic', 'Ġma', 'ource', 'assertEqual', 'mode', 'url', 'ry', \"'),\", 'Ġra', 'fa', 'ader', 'ĊĠĠĠĠĠĠĠĠĠĠĠĠĠĠĠĠĠĠ', 'sp', 'tp', 'Ġpa', 'ca', 'db', 'field', 'Ġns', 'ssage', 'ĠĊĠĠĠĠĠĠĠĠĠĠĠĠĠĠĠĠĠĠ', 'vice', 'ten', 'scri', 'ponse', \"'):\", 'EN', 'jo', 'tes', 'AL', 'late', 'user', 'ress', 'wa', 'ari', 'tic', 'method', 'ock', 'tent', 'ET', 'vent', 'gn', 'object', 'tribu', \"Ġ['\", 'Ġ}', 'Field', 'work', 'pp', 'Type', 'ze', 'temp', 'ception', 'stri', 'lay', 'Ġmode', 'ec', 'kw', 'ble', 'son', 'ST', 'Ġcls', '11', 'net', 'jang', 'tions', 'lif', '.__', 'tive', 'jango', 'Ġmodule', 'andle', 'mmand', 'Ġtry', 'lient', '////', 'Ġexcept', 'De', 'update', 'string', 'ters', 'AN', 'Ġro', 'umber', \"''\", 'atus', 'SE', 'Ġfield', 'gin', 'LE', 'RE', 'peci', 'ght', 'Pro', 'Ex', 'Ġuser', 'group', 'ape', 'Ġ##', 'opy', 'Ġpath', 'node', 'UT', 'uti', \"'}\", 'uc', 'IC', 'Ġconst', 'ong', 'write', 'fields', 'scription', 'kwargs', '04', 'Co', 'lement', '13', 'fix', 'main', '16', 'mber', 'nd', 'create', 'Ġsys', 'Name', 'Ġpass', 'ariable', 'cor', 'Ġ[],', 'by', 'models', '0000', '02', 'ID', 'tribute', 'server', 'json', 'Get', 'gument', 'tial', 'Ġversion', 'clu', 'right', 'version', 'ee', 'word', 'CT', 'Ġnode', 'Ġbu', 'ound', 'Ġ->', 'sign', 'pi', 'čĊĠĠĠĠĠĠĠ', '.\"\"\"', 'vir', '15', 'Ch', 'Ġadd', 'lit', 'Ġ{}', 'item', 'ail', 'Ġrequest', 'Ġstring', 'cation', 'md', 'Ġcontext', 'ware', 'request', 'lace', 'link', 'ION', 'ctory', '14', '22', '34', 'Set', '18', 'quired', 'ory', 'ream', 'RO', 'DE', 'Ġcur', 'ark', 'result', 'context', 'Ġconfig', 'host', '\\\\\\\\', \"'])\", 'Ġspeci', 'return', '</', '!=', 'nection', 'obj', 'member', 'Ġpo', '****', 'tle', 'ash', 'stribu', 'ref', 'Add', 'Ġla', 'čĊĠĠĠ', 'we', \"'t\", 'Ke', 'Ġ!=', '77', 'Ġapp', 'led', 'mit', 'ED', 'sent', 'ak', '33', \"'\\\\\", 'rep', 'AM', 'TER', \"'s\", 'template', 'tings', 'Ġother', 'sible', 'Ġurl', '19', 'oid', 'mpty', 'File', 'Ġstate', 'django', 'Ġresponse', 'auth', 'AS', 'use', 'ud', '86', 'move', 'message', 'ann', 'IL', '24', 'rc', '17', 'Key', 'mail', 'network', 'rect', 'tern', 'Ġ|', 'status', 'ING', 'sta', 'Ġdict', 'Ġli', 'title', 'Ġparam', '30', 'AB', 'Ġcreate', 'andler', 'čĊ', 'table', 'Ġisinstance', '55', 'UR', 'root', 'tring', 'Ġcode', 'be', 'yn', 'man', 'Ġitem', 'Ġht', 'CH', 'Ġmessage', 'api', 'ublic', 'Ġargs', 'clo', 'Ġ&', 'AG', 'Ġrun', 'Ġinstance']\n"
     ]
    }
   ],
   "source": [
    "# ml-vocab topk에는 있지만 org-vocab에 존재하지 않는 token\n",
    "print([tok for tok in top_org_vocab if tok not in top_ml_vocab])\n",
    "# [url, db, jango, assertEqual]"
   ]
  },
  {
   "attachments": {},
   "cell_type": "markdown",
   "metadata": {},
   "source": [
    "- 학습에 사용된 데이터에 따라 vocab 구성이 꽤 많이 바뀌는 것을 확인 "
   ]
  },
  {
   "attachments": {},
   "cell_type": "markdown",
   "metadata": {},
   "source": [
    "## Model\n",
    "- [huggingface codeparrot repository](https://github.com/huggingface/transformers/tree/main/examples/research_projects/codeparrot) 코드 사용\n",
    "- [ml-codeparrot-train dataset](https://huggingface.co/datasets/rockmiin/ml-codeparrot-train)을 **2epoch**(200,000step) 학습\n",
    "- baseline model로 [gpt2](https://huggingface.co/gpt2)를 사용\n",
    "- A5000 24G 1GPU를 사용(약 28시간 소요)\n",
    "\n",
    "###Dataset\n",
    "The entire data was divided into 9:1 and divided into train and valid dataset.\n",
    "| Dataset                | Raw size |\n",
    "|----------------------|----------------|\n",
    "| ml-codeparrot-train            | 5.05GB            |\n",
    "| ml-codeparrot-valid            | 0.56GB          |\n",
    "\n",
    "### Baseline Models\n",
    "Pretraining was performed using the gpt2 \n",
    "| Model                | Model size | Vocab size |\n",
    "|----------------------|----------------|-------------|\n",
    "| gpt2            | 117M            | 32768         |\n",
    "\n",
    "### Monitoring\n",
    "**Train Loss**<br>\n",
    "<center><img src=\"./images/train_loss.png\" width=\"900\" height=\"300\"></center>\n",
    "\n",
    "**Eval Loss**<br>\n",
    "<center><img src=\"./images/eval_loss.png\" width=\"900\" height=\"300\"></center>\n",
    "\n",
    "**Eval Perplexity**<br>\n",
    "<center><img src=\"./images/eval_perplexity.png\" width=\"900\" height=\"300\"></center>"
   ]
  },
  {
   "attachments": {},
   "cell_type": "markdown",
   "metadata": {},
   "source": [
    "## Experiment\n",
    "- ml-codeparrot과 codeparrot의 generation 결과 비교"
   ]
  },
  {
   "cell_type": "code",
   "execution_count": 8,
   "metadata": {},
   "outputs": [],
   "source": [
    "from transformers import pipeline, set_seed\n",
    "\n",
    "model_ckpt= 'rockmiin/ml-codeparrot'\n",
    "generation = pipeline('text-generation', model=model_ckpt)"
   ]
  },
  {
   "cell_type": "code",
   "execution_count": 9,
   "metadata": {},
   "outputs": [],
   "source": [
    "org_model_ckpt= 'transformersbook/codeparrot-small'\n",
    "org_generation = pipeline('text-generation', model=org_model_ckpt)"
   ]
  },
  {
   "cell_type": "code",
   "execution_count": 10,
   "metadata": {},
   "outputs": [],
   "source": [
    "import re\n",
    "\n",
    "def first_block(string):\n",
    "    return re.split('\\nclass|\\ndef|\\n#|\\n@|\\nprint|\\nif', string)[0].rstrip()\n",
    "\n",
    "def complete_code(pipe, prompt, max_length=64, num_completions=4, seed=42):\n",
    "    set_seed(seed)\n",
    "    gen_kwargs = {\"temperature\":0.6, \"top_p\":0.90, \"top_k\":0, \"num_beams\":1,\n",
    "                  \"do_sample\":True,}\n",
    "    code_gens = pipe(prompt, num_return_sequences=num_completions, \n",
    "                            max_length=max_length, **gen_kwargs)\n",
    "    code_strings = []\n",
    "    for code_gen in code_gens:\n",
    "        generated_code = first_block(code_gen['generated_text'][len(prompt):])\n",
    "        code_strings.append(generated_code)\n",
    "    print(('\\n'+'='*80 + '\\n').join(code_strings))"
   ]
  },
  {
   "cell_type": "code",
   "execution_count": 11,
   "metadata": {},
   "outputs": [
    {
     "name": "stderr",
     "output_type": "stream",
     "text": [
      "Setting `pad_token_id` to `eos_token_id`:50256 for open-end generation.\n"
     ]
    },
    {
     "name": "stdout",
     "output_type": "stream",
     "text": [
      "\n",
      "    return a.concat(b)\n",
      "================================================================================\n",
      "\n",
      "    return a * b\n",
      "================================================================================\n",
      "\n",
      "    # Compute the concatenated tensors\n",
      "    if isinstance(a, tensor.Tensor):\n",
      "        a = a.value()\n",
      "    # Add the concatenated\n",
      "================================================================================\n",
      "\n",
      "    return torch.cat(a, b)\n"
     ]
    }
   ],
   "source": [
    "prompt = '''\n",
    "import torch\n",
    "def concat_tensor(a, b):\n",
    "    \"\"\"\n",
    "    Return concatenated tensor of two input tensors.\n",
    "    Assume the sizes of two tensors are equal.\n",
    "    \"\"\"'''\n",
    "\n",
    "complete_code(org_generation, prompt, max_length=64)\n",
    "# LABEL : return torch.concat([a, b])"
   ]
  },
  {
   "cell_type": "code",
   "execution_count": 12,
   "metadata": {},
   "outputs": [
    {
     "name": "stderr",
     "output_type": "stream",
     "text": [
      "Setting `pad_token_id` to `eos_token_id`:50256 for open-end generation.\n"
     ]
    },
    {
     "name": "stdout",
     "output_type": "stream",
     "text": [
      "\n",
      "    return [\n",
      "        torch.zeros(1, len(a), dtype=torch.float),\n",
      "        torch.zeros(1, len\n",
      "================================================================================\n",
      "\n",
      "    return a.to(b)\n",
      "================================================================================\n",
      "\n",
      "    return torch.cat(a, dim=-1)\n",
      "================================================================================\n",
      "\n",
      "    return torch.stack([a, b], axis=-1)\n"
     ]
    }
   ],
   "source": [
    "prompt = '''\n",
    "import torch\n",
    "def concat_tensor(a, b):\n",
    "    \"\"\"\n",
    "    Return concatenated tensor of two input tensors.\n",
    "    Assume the sizes of two tensors are equal.\n",
    "    \"\"\"'''\n",
    "\n",
    "complete_code(generation, prompt, max_length=64)\n",
    "# LABEL : return torch.concat([a, b])"
   ]
  },
  {
   "cell_type": "code",
   "execution_count": 13,
   "metadata": {},
   "outputs": [
    {
     "name": "stderr",
     "output_type": "stream",
     "text": [
      "Setting `pad_token_id` to `eos_token_id`:50256 for open-end generation.\n"
     ]
    },
    {
     "name": "stdout",
     "output_type": "stream",
     "text": [
      "\n",
      "    # TODO: use tokenize.tokenize to handle sentence\n",
      "    sentence = tokenizer\n",
      "================================================================================\n",
      "\n",
      "    return ''.join(sentence.split())\n",
      "================================================================================\n",
      "\n",
      "    # TODO: Use tokenizer to decode sentence\n",
      "    sentence = tokenizer.tokenize\n",
      "================================================================================\n",
      "\n",
      "    return [encode_sentence(sentence, tokenizer) for sentence in sentence\n"
     ]
    }
   ],
   "source": [
    "prompt = '''\n",
    "def encode(sentence, tokenizer):\n",
    "    \"\"\"\n",
    "    Return tokenized list of input sentences.\n",
    "    \n",
    "    Example:\n",
    "    sentence: [\"Hi\", \"how are you\"] -> output: [[1], [34, 5656, 32]]\n",
    "    \"\"\"'''\n",
    "\n",
    "complete_code(org_generation, prompt, max_length=64)\n",
    "# LABEL : return [tokenizer(s)['input_ids'] for s in sentence]"
   ]
  },
  {
   "cell_type": "code",
   "execution_count": 14,
   "metadata": {},
   "outputs": [
    {
     "name": "stderr",
     "output_type": "stream",
     "text": [
      "Setting `pad_token_id` to `eos_token_id`:50256 for open-end generation.\n"
     ]
    },
    {
     "name": "stdout",
     "output_type": "stream",
     "text": [
      "\n",
      "    return [\n",
      "        tokenizer(sentence) for sentence in sentence]\n",
      "================================================================================\n",
      "\n",
      "    return [x.encode(tokenizer.tokenize(x)) for x in\n",
      "================================================================================\n",
      "\n",
      "    tokenized = tokenizer.encode(sentence)\n",
      "    tokenized = tokenized.encode(\n",
      "================================================================================\n",
      "\n",
      "    return [\n",
      "        [tokenizer(sentence, tokenizer, max_tokens=max\n"
     ]
    }
   ],
   "source": [
    "prompt = '''\n",
    "def encode(sentence, tokenizer):\n",
    "    \"\"\"\n",
    "    Return tokenized list of input sentences.\n",
    "    \n",
    "    Example:\n",
    "    sentence: [\"Hi\", \"how are you\"] -> output: [[1], [34, 5656, 32]]\n",
    "    \"\"\"'''\n",
    "\n",
    "complete_code(generation, prompt, max_length=64)\n",
    "# LABEL : return [tokenizer(s)['input_ids'] for s in sentence]"
   ]
  },
  {
   "cell_type": "code",
   "execution_count": 15,
   "metadata": {},
   "outputs": [],
   "source": [
    "# from chatGPT\n",
    "import torch\n",
    "\n",
    "def concat_tensor(a, b):\n",
    "    \"\"\"\n",
    "    Return concatenated tensor of two input tensors.\n",
    "    Assume the sizes of two tensors are equal.\n",
    "    \"\"\"\n",
    "    return torch.cat((a, b), dim=0)\n",
    "# LABEL : return torch.concat([a, b])"
   ]
  },
  {
   "cell_type": "code",
   "execution_count": 16,
   "metadata": {},
   "outputs": [],
   "source": [
    "# from chatGPT\n",
    "def encode(sentence, tokenizer): \n",
    "    \"\"\"\n",
    "    Return tokenized list of input sentences.\n",
    "    \n",
    "    Example:\n",
    "    sentence: [\"Hi\", \"how are you\"] -> output: [[1], [34, 5656, 32]]\n",
    "    \"\"\"\n",
    "    return [tokenizer.encode(s) for s in sentence]\n",
    "# LABEL : return [tokenizer(s)['input_ids'] for s in sentence]"
   ]
  },
  {
   "attachments": {},
   "cell_type": "markdown",
   "metadata": {},
   "source": [
    "### Conclusion\n",
    "\n",
    "특정 Task(ML) Code Dataset만 활용하여 Pretraining\n",
    "- 빅쿼리를 이용하면 정말 빠르게 데이터 추출이 가능!\n",
    "- 적은 데이터(3%) 활용에도 불구하고 특정 task만 푸는 것에 대한 가능성을 보여줌\n",
    "- 코테나 수학 문제는 유닛 테스트를 통해 성능 평가가 가능하지만 ML problem은 어려운 것 같다. 평가 어떻게?\n",
    "- 이렇게 했음에도 불구하고.. LLM의 성능이 더 좋긴 하더라..\n",
    "\n",
    "\n",
    "[Repository](https://github.com/RockMiin/ML-CodeParrot)"
   ]
  }
 ],
 "metadata": {
  "kernelspec": {
   "display_name": "copilot",
   "language": "python",
   "name": "copilot"
  },
  "language_info": {
   "codemirror_mode": {
    "name": "ipython",
    "version": 3
   },
   "file_extension": ".py",
   "mimetype": "text/x-python",
   "name": "python",
   "nbconvert_exporter": "python",
   "pygments_lexer": "ipython3",
   "version": "3.8.13"
  },
  "orig_nbformat": 4
 },
 "nbformat": 4,
 "nbformat_minor": 2
}
